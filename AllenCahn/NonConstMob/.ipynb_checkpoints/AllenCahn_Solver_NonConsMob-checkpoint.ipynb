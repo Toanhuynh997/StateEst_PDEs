{
 "cells": [
  {
   "cell_type": "code",
   "execution_count": 2,
   "id": "b1d989ea",
   "metadata": {},
   "outputs": [],
   "source": [
    "import numpy as np\n",
    "import scipy\n",
    "import scipy.sparse as sp\n",
    "from scipy import sparse\n",
    "from scipy.sparse import eye, diags, block_diag, hstack\n",
    "from scipy.sparse.csgraph import reverse_cuthill_mckee\n",
    "from scipy.sparse.linalg import gmres, spsolve\n",
    "from scipy.sparse import eye, diags, kron, csr_matrix\n",
    "# from scipy.sparse.csgraph import symmetrix_degree_order\n",
    "import importlib\n",
    "import time\n",
    "import AllenCahn_Solver as AC_Neu"
   ]
  },
  {
   "cell_type": "code",
   "execution_count": 15,
   "id": "e5e075aa",
   "metadata": {},
   "outputs": [
    {
     "data": {
      "text/plain": [
       "<module 'AllenCahn_Solver' from 'D:\\\\Anaconda\\\\Code\\\\EnSF\\\\AllenCahn\\\\AllenCahn_Solver.py'>"
      ]
     },
     "execution_count": 15,
     "metadata": {},
     "output_type": "execute_result"
    }
   ],
   "source": [
    "importlib.reload(AC_Neu)"
   ]
  },
  {
   "cell_type": "code",
   "execution_count": 27,
   "id": "bcc649d0",
   "metadata": {},
   "outputs": [],
   "source": [
    "xa = -0.5 \n",
    "xb = 0.5\n",
    "ya = -0.5\n",
    "yb = 0.5 \n",
    "# T = 10\n",
    "# Nt = 1000\n",
    "\n",
    "# T = 20\n",
    "# Nt = 2000\n",
    "\n",
    "T = 50\n",
    "Nt = 5000\n",
    "eps = 0.01\n",
    "Nx = 128\n",
    "Ny = Nx\n",
    "\n",
    "N = Nx\n",
    "\n",
    "hx = (xb - xa) / Nx\n",
    "hy = (yb - ya) / Ny\n",
    "\n",
    "h = hx\n",
    "x = np.arange(xa, xb + hx/2, hx)  # adding hx/2 ensures xb is included\n",
    "y = np.arange(ya, yb + hy/2, hy)\n",
    "\n",
    "xmid = (x[:-1]+x[1:])/2\n",
    "ymid = (y[:-1]+y[1:])/2\n",
    "\n",
    "dt = T / Nt\n",
    "TT = np.arange(0, T + dt/2, dt)\n",
    "\n",
    "S = 2\n",
    "\n",
    "cons = 0\n",
    "\n",
    "gamma = 1\n",
    "## for uniform time step\n",
    "b0 = 3/(2*dt)\n",
    "b1 = -1/(2*dt)\n",
    "\n",
    "# U0 = np.random.uniform(-0.9, 0.9, size=Nx*Ny)"
   ]
  },
  {
   "cell_type": "code",
   "execution_count": 5,
   "id": "60a122ed",
   "metadata": {},
   "outputs": [],
   "source": [
    "# scipy.io.savemat('RefU0_AllenC_NonConsMob_v1.mat', {'U0': U0})"
   ]
  },
  {
   "cell_type": "code",
   "execution_count": 28,
   "id": "8275c282",
   "metadata": {},
   "outputs": [],
   "source": [
    "data = scipy.io.loadmat('RefU0_AllenC_NonConsMob_v1.mat')\n",
    "\n",
    "U0 = data['U0'].astype(np.float64)\n",
    "U0 = U0.reshape(Nx*Ny, )"
   ]
  },
  {
   "cell_type": "code",
   "execution_count": 29,
   "id": "e6e42159",
   "metadata": {},
   "outputs": [],
   "source": [
    "# main diagonal\n",
    "Main = (-2)*np.ones(N)\n",
    "Main[0] = -1\n",
    "Main[-1] = -1\n",
    "Main *= (1/h**2)\n",
    "\n",
    "# super- and sub-diagonals\n",
    "Up =  (1/(h**2))*np.ones(N-1)\n",
    "Low = (1/(h**2))*np.ones(N-1)\n",
    "\n",
    "# assemble\n",
    "G = diags(\n",
    "    diagonals=[Main, Up, Low],\n",
    "    offsets=[0, 1, -1],\n",
    "    shape=(N, N),\n",
    "    format='csr'\n",
    ")\n",
    "# G = np.diag(Main)       \\\n",
    "#   + np.diag(Up,  k= 1) \\\n",
    "#   + np.diag(Low,  k=-1)\n",
    "\n",
    "I = eye(N, format='csr')\n",
    "Dh = kron(I, G, format='csr') + kron(G, I, format='csr')\n",
    "\n",
    "# Idd = np.eye(N)\n",
    "# Dh = np.kron(Idd, G)+np.kron(G, Idd)"
   ]
  },
  {
   "cell_type": "code",
   "execution_count": 30,
   "id": "9a5c204d",
   "metadata": {},
   "outputs": [],
   "source": [
    "noise = 2*np.random.randn(Nx*Ny)\n",
    "U1 = AC_Neu.AllenCahn_Solver_1step_BDF1(U0, N, dt, eps, gamma, S, Dh, 3, noise)"
   ]
  },
  {
   "cell_type": "code",
   "execution_count": 31,
   "id": "5bf88031",
   "metadata": {},
   "outputs": [],
   "source": [
    "RefSol = np.zeros((Nx*Ny, Nt+1))\n",
    "\n",
    "RefSol[:, 0] += U0\n",
    "RefSol[:, 1] += U1"
   ]
  },
  {
   "cell_type": "code",
   "execution_count": 1,
   "id": "540114f3",
   "metadata": {},
   "outputs": [],
   "source": [
    "for ii in range(1, Nt):\n",
    "    print(f'step={ii}:')\n",
    "    t1 = time.time() \n",
    "    noise = 0.5*np.random.randn(Nx*Ny)\n",
    "    x = AC_Neu.AllenCahn_Solver_1step_BDF2(U1, U0, N, dt, eps, gamma, S, Dh, b0, b1, 3, noise)\n",
    "    t2 = time.time()\n",
    "    print(f'\\t time = {t2 - t1:.4f}')\n",
    "    \n",
    "    U0 = U1.copy()\n",
    "    U1 = x.copy()\n",
    "    RefSol[:, ii+1] +=x"
   ]
  },
  {
   "cell_type": "code",
   "execution_count": 33,
   "id": "5f53c953",
   "metadata": {},
   "outputs": [],
   "source": [
    "scipy.io.savemat('RefSol_AllenC_T10_NonConsMob_v1.mat', {'RefU':RefSol})\n",
    "\n",
    "# scipy.io.savemat('RefSol_AllenC_T20_NonConsMob_v1.mat', {'RefU':RefSol})\n",
    "\n",
    "# scipy.io.savemat('RefSol_AllenC_T50_NonConsMob_v1.mat', {'RefU':RefSol})"
   ]
  },
  {
   "cell_type": "code",
   "execution_count": null,
   "id": "f80dd8ff",
   "metadata": {},
   "outputs": [],
   "source": []
  }
 ],
 "metadata": {
  "kernelspec": {
   "display_name": "Python 3 (ipykernel)",
   "language": "python",
   "name": "python3"
  },
  "language_info": {
   "codemirror_mode": {
    "name": "ipython",
    "version": 3
   },
   "file_extension": ".py",
   "mimetype": "text/x-python",
   "name": "python",
   "nbconvert_exporter": "python",
   "pygments_lexer": "ipython3",
   "version": "3.11.7"
  }
 },
 "nbformat": 4,
 "nbformat_minor": 5
}
